{
 "cells": [
  {
   "cell_type": "code",
   "execution_count": 1,
   "id": "international-today",
   "metadata": {},
   "outputs": [],
   "source": [
    "import torch\n",
    "import torchvision\n",
    "import PIL\n",
    "import numpy\n",
    "import collections\n",
    "import types\n",
    "from scipy.spatial import distance\n",
    "import os"
   ]
  },
  {
   "cell_type": "code",
   "execution_count": 2,
   "id": "streaming-agent",
   "metadata": {},
   "outputs": [],
   "source": [
    "# network\n",
    "\n",
    "class Network():\n",
    "    def __init__(self):\n",
    "        self.conv1 = torch.nn.Conv2d()\n",
    "        self.conv2 = torch.nn.Conv2d()\n",
    "        self.pooling = torch.nn.MaxPool2d()\n",
    "        self.activation1 = torch.nn.Sigmoid()\n",
    "        self.bn = torch.nn.BatchNorm2d()\n",
    "        \n",
    "        self.fc1 = torch.nn.Linear(7*7*32, 50)\n",
    "        self.activation2 = torch.nn.Sigmoid()\n",
    "        self.fc2 = torch.nn.Linear(50, 4)\n",
    "        \n",
    "    def forward(self, input):\n",
    "        return logits\n",
    "    \n",
    "    def loos(self, logits, targets):\n",
    "        # todo return only one value\n",
    "        return torch.log_softmax(dim=len(targets))\n",
    "        "
   ]
  },
  {
   "cell_type": "code",
   "execution_count": null,
   "id": "68c6df4d-4a07-4d5a-89f4-e94b039f2a8b",
   "metadata": {},
   "outputs": [],
   "source": [
    "# one hot vector for targets\n",
    "class TargetVector():\n",
    "    def __init__(self, known_targets = (4,5,8,9), unknown_targets = (0,2,3,7), ignored_targets = (1,6)):\n",
    "        self.known_targets = known_targets\n",
    "        self.unknown_targets = unknown_targets\n",
    "        self.ignored_targets = ignored_targets\n",
    "        \n",
    "        # generate one hot representation of known targets\n",
    "        self.one_hot_known = numpy.eye(len(known_targets))\n",
    "        self.target_known = {k.self.one_hot_known[i] for i,k in enumerate(self.known_targets)}\n",
    "        \n",
    "        # generate one hot representation of unknown targets\n",
    "        self.target_unknown = numpy.ones(len(known_targets)) / len(known_targets)\n",
    "        \n",
    "    # creates target batch for given targets    \n",
    "    def __call__(self, inputs, targets):\n",
    "        valid = []\n",
    "        vectors = []\n",
    "    \n",
    "        # split off unknown unknown samples\n",
    "        for i, t in enumerate(targets):\n",
    "            if t in self.known_targets:\n",
    "                vectors.append(self.target_known[int(t)])\n",
    "                valid.append(inputs[i].numpy())\n",
    "            elif t in self.unknown_targets:\n",
    "                vectors.append(self.target_unknown)\n",
    "                valid.append(inputs[i].numpy())\n",
    "                \n",
    "        # filtered original inputs and one hot vector\n",
    "        return torch.tensor(valid), torch.tensor(vectors)\n",
    "    \n",
    "    # predicts class & its confidence\n",
    "    def predict(self, logits):\n",
    "        # softmax over logits in batch\n",
    "        confidences = torch.nn.functional.softmax(logits, dim=1)\n",
    "        \n",
    "        # indexes of the prediction\n",
    "        indexes = torch.argmax(logits, dim=1)\n",
    "        \n",
    "        # confidences for the predicted values\n",
    "        max_confidences = confidences[range(len(logits)), indexes]\n",
    "        \n",
    "        # return tuple predicted class and confidence for a batch\n",
    "        return [(self.known_targets[indexes[i]], max_confidences[i]), for i in range(len(logits))]\n",
    "        \n",
    "        \n",
    "        \n",
    "        \n",
    "                    \n"
   ]
  },
  {
   "cell_type": "code",
   "execution_count": 3,
   "id": "native-jaguar",
   "metadata": {},
   "outputs": [
    {
     "name": "stdout",
     "output_type": "stream",
     "text": [
      "Downloading http://yann.lecun.com/exdb/mnist/train-images-idx3-ubyte.gz\n",
      "Downloading http://yann.lecun.com/exdb/mnist/train-labels-idx1-ubyte.gz\n",
      "Downloading http://yann.lecun.com/exdb/mnist/t10k-images-idx3-ubyte.gz\n",
      "Downloading http://yann.lecun.com/exdb/mnist/t10k-labels-idx1-ubyte.gz\n",
      "Processing...\n",
      "Done!\n"
     ]
    },
    {
     "ename": "AttributeError",
     "evalue": "module 'torch.utils.data' has no attribute 'Dataloader'",
     "output_type": "error",
     "traceback": [
      "\u001b[0;31m---------------------------------------------------------------------------\u001b[0m",
      "\u001b[0;31mAttributeError\u001b[0m                            Traceback (most recent call last)",
      "\u001b[0;32m<ipython-input-3-7f8ea27cba2b>\u001b[0m in \u001b[0;36m<module>\u001b[0;34m\u001b[0m\n\u001b[1;32m     14\u001b[0m \u001b[0;34m\u001b[0m\u001b[0m\n\u001b[1;32m     15\u001b[0m \u001b[0;31m# loaders\u001b[0m\u001b[0;34m\u001b[0m\u001b[0;34m\u001b[0m\u001b[0;34m\u001b[0m\u001b[0m\n\u001b[0;32m---> 16\u001b[0;31m train_loader = torch.utils.data.Dataloader(\n\u001b[0m\u001b[1;32m     17\u001b[0m     \u001b[0mtrain_set\u001b[0m\u001b[0;34m,\u001b[0m \u001b[0mshuffle\u001b[0m\u001b[0;34m=\u001b[0m\u001b[0;32mTrue\u001b[0m\u001b[0;34m,\u001b[0m \u001b[0mbatch_size\u001b[0m\u001b[0;34m=\u001b[0m\u001b[0;36m64\u001b[0m\u001b[0;34m\u001b[0m\u001b[0;34m\u001b[0m\u001b[0m\n\u001b[1;32m     18\u001b[0m )\n",
      "\u001b[0;31mAttributeError\u001b[0m: module 'torch.utils.data' has no attribute 'Dataloader'"
     ]
    }
   ],
   "source": [
    "# get the MNIST dataset\n",
    "transform = torchvision.transforms.ToTensor()\n",
    "tain_set = torchvision.datasets.MNIST(\n",
    "    root=\"/tmp/MNIST\",\n",
    "    train=True, download=True, \n",
    "    transform=transform\n",
    ")\n",
    "\n",
    "test_set = torchvision.datasets.MNIST(\n",
    "    root=\"/tmp/MNIST\",\n",
    "    train=False, download=True,\n",
    "    transform=transform\n",
    ")\n",
    "\n",
    "# loaders\n",
    "train_loader = torch.utils.data.Dataloader(\n",
    "    train_set, shuffle=True, batch_size=64\n",
    ")\n",
    "\n",
    "test_loader = torch.utils.data.Dataloader(\n",
    "    test_set, shuffle=False, batch_size=100\n",
    ")"
   ]
  },
  {
   "cell_type": "code",
   "execution_count": null,
   "id": "accepting-circulation",
   "metadata": {},
   "outputs": [],
   "source": [
    "# training\n",
    "\n",
    "for inputs, targets in train_loader:\n",
    "    # remove unknown unknown inputs\n",
    "    \n",
    "    # convert targets to one-hot-encoding\n",
    "    targets = convert_target(targets)\n",
    "    \n",
    "    # forward inputs\n",
    "    logits = network(inputs)\n",
    "    \n",
    "    # call loss function\n",
    "    \n",
    "    J = loss(logits, targets)"
   ]
  }
 ],
 "metadata": {
  "kernelspec": {
   "display_name": "Python 3",
   "language": "python",
   "name": "python3"
  },
  "language_info": {
   "codemirror_mode": {
    "name": "ipython",
    "version": 3
   },
   "file_extension": ".py",
   "mimetype": "text/x-python",
   "name": "python",
   "nbconvert_exporter": "python",
   "pygments_lexer": "ipython3",
   "version": "3.7.10"
  }
 },
 "nbformat": 4,
 "nbformat_minor": 5
}
