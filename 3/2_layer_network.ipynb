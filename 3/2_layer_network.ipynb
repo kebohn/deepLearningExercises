{
 "cells": [
  {
   "cell_type": "code",
   "execution_count": 1,
   "id": "liberal-nothing",
   "metadata": {},
   "outputs": [],
   "source": [
    "import numpy\n",
    "import matplotlib.pyplot as plt"
   ]
  },
  {
   "cell_type": "code",
   "execution_count": 2,
   "id": "exact-canadian",
   "metadata": {},
   "outputs": [],
   "source": [
    "def cosine(x):\n",
    "    return (numpy.cos(3 * x) + 1) / 2\n",
    "\n",
    "def gaussian(x):\n",
    "    return numpy.exp(-0.25 * x ** 2)\n",
    "\n",
    "def polynomial(x):\n",
    "    return (x ** 5 + 3 * x ** 4 - 11 * x ** 3 - 27 * x ** 2 + 10 * x + 64) / 100\n",
    "\n",
    "def a(w, x):\n",
    "    return w.dot(x)\n",
    "\n",
    "def g(x):\n",
    "    1 / (1 + numpy.exp(-x))\n",
    "\n",
    "def compute_loss(w_1, w_2):\n",
    "    return \n",
    "\n",
    "def compute_gradient(w):\n",
    "    return \n",
    "\n",
    "def gradient_descent(w, eta, x, t, epochs):\n",
    "    loss_array = numpy.zeros(epochs)\n",
    "    \n",
    "    for epoch in range(epochs):\n",
    "        \n",
    "    \n",
    "    \n",
    "    return w, loss_array"
   ]
  },
  {
   "cell_type": "code",
   "execution_count": 12,
   "id": "behind-passport",
   "metadata": {},
   "outputs": [
    {
     "name": "stdout",
     "output_type": "stream",
     "text": [
      "(10, 1116)\n",
      "[-0.40128491  5.88016741 -9.79183315 -7.30296559  1.40038245  4.05021712\n",
      " -1.950041    2.04707071  1.58358297 -0.43438309]\n"
     ]
    }
   ],
   "source": [
    "# define number of samples\n",
    "d = numpy.random.randint(low=20, high=2000)\n",
    "\n",
    "# datasets\n",
    "x_1 = numpy.random.uniform(low=-2, high=2, size=(d))\n",
    "t_1 = cosine(x_1)\n",
    "\n",
    "x_2 = numpy.random.uniform(low=-2, high=2, size=(d))\n",
    "t_2 = gaussian(x_2)\n",
    "\n",
    "x_3 = numpy.random.uniform(low=-4.5, high=3.5, size=(d))\n",
    "t_3 = polynomial(x_3)\n",
    "\n",
    "# init weights\n",
    "k = 10\n",
    "w_1 = numpy.random.uniform(low=-10, high=10, size=(k,d))\n",
    "w_2 = numpy.random.uniform(low=-10, high=10, size=(k))\n",
    "\n",
    "# learning rate\n",
    "eta = 0.02\n",
    "\n",
    "# number of epochs\n",
    "epochs = 10\n",
    "\n",
    "# run gradient descent for x_1 dataset\n",
    "w_x_1 = gradient_descent()\n",
    "\n",
    "# plot the graph\n",
    "\n",
    "# run gradient descent for x_3 dataset\n",
    "w_x_2 = gradient_descent()\n",
    "\n",
    "# plot the graph\n",
    "\n",
    "# run gradient descent for x_3 dataset\n",
    "w_x_3 = gradient_descent()\n",
    "\n",
    "# plot the graph\n",
    "\n",
    "\n"
   ]
  }
 ],
 "metadata": {
  "kernelspec": {
   "display_name": "Python 3",
   "language": "python",
   "name": "python3"
  },
  "language_info": {
   "codemirror_mode": {
    "name": "ipython",
    "version": 3
   },
   "file_extension": ".py",
   "mimetype": "text/x-python",
   "name": "python",
   "nbconvert_exporter": "python",
   "pygments_lexer": "ipython3",
   "version": "3.8.8"
  }
 },
 "nbformat": 4,
 "nbformat_minor": 5
}
