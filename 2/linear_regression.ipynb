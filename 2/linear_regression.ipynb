{
 "cells": [
  {
   "cell_type": "code",
   "execution_count": 1,
   "id": "given-glasgow",
   "metadata": {},
   "outputs": [],
   "source": [
    "import numpy\n",
    "import random\n",
    "import matplotlib.pyplot as plt"
   ]
  },
  {
   "cell_type": "code",
   "execution_count": 2,
   "id": "economic-blast",
   "metadata": {},
   "outputs": [],
   "source": [
    "def loss_function(y, t): # L2 Loss\n",
    "    return numpy.mean((y - t) ** 2) / 2\n",
    "\n",
    "def gradient_function(y, t, x):\n",
    "    return numpy.array([numpy.mean(y - t), numpy.mean((y - t) * x)])\n",
    "\n",
    "def linear_function(a, b, x):\n",
    "    return a * x + b\n",
    "\n",
    "def gradient_descent(w, eta, x, t):\n",
    "    epochs = 0\n",
    "    y = linear_function(w[1], w[0], x)\n",
    "    gradient = gradient_function(y, t, x)\n",
    "    while numpy.linalg.norm(gradient) > 10e-5:\n",
    "        y = linear_function(w[1], w[0], x)\n",
    "        gradient = gradient_function(y, t, x)\n",
    "        w -= eta * gradient\n",
    "        epochs += 1\n",
    "    return (w, epochs)\n",
    "\n",
    "def gradient_descent_adaptive(w, eta, x, t):\n",
    "    epochs = 0\n",
    "    y = linear_function(w[1], w[0], x)\n",
    "    gradient = gradient_function(y, t, x)\n",
    "    old_loss = loss_function(y,t)\n",
    "    while numpy.linalg.norm(gradient) > 10e-5:\n",
    "        y = linear_function(w[1], w[0], x)\n",
    "        loss = loss_function(y, t)\n",
    "        gradient = gradient_function(y, t, x)\n",
    "        \n",
    "        if loss >= old_loss:\n",
    "            eta *= 0.5\n",
    "        else:\n",
    "            eta *= 1.1\n",
    "        \n",
    "        w -= eta * gradient\n",
    "        old_loss = loss\n",
    "        epochs += 1\n",
    "    return (w, epochs)\n",
    "\n"
   ]
  },
  {
   "cell_type": "code",
   "execution_count": 3,
   "id": "working-tract",
   "metadata": {},
   "outputs": [
    {
     "data": {
      "image/png": "[encoded data removed]",
      "text/plain": [
       "<Figure size 432x288 with 1 Axes>"
      ]
     },
     "metadata": {
      "needs_background": "light"
     },
     "output_type": "display_data"
    }
   ],
   "source": [
    "# generate data\n",
    "amount = 100\n",
    "a = .5\n",
    "b = -2.\n",
    "x = numpy.random.random(amount) * 10\n",
    "\n",
    "# data points for the line\n",
    "source = linear_function(a, b, x)\n",
    "\n",
    "# data points for training with uniform noise\n",
    "t = linear_function(a, b, x) + numpy.random.uniform(low=-1, high=1, size=amount)\n",
    "\n",
    "# run gradient descent\n",
    "weights = numpy.random.random(size=2) * 2. - 1.\n",
    "eta = 0.01\n",
    "\n",
    "# run gradient descent\n",
    "optimized_weights,epochs = gradient_descent(numpy.copy(weights), eta, x, t)\n",
    "optimized_y = linear_function(optimized_weights[1], optimized_weights[0], x)\n",
    "\n",
    "# run gradient descent with adaptive learning rate\n",
    "optimized_weights_adaptive,epochs_adaptive = gradient_descent_adaptive(numpy.copy(weights), eta, x, t)\n",
    "optimized_y_adaptive = linear_function(optimized_weights_adaptive[1], optimized_weights_adaptive[0], x)\n",
    "\n",
    "# plot data\n",
    "plt.scatter(x,t)\n",
    "plt.plot(x,source,'-')\n",
    "plt.plot(x,optimized_y,'-')\n",
    "plt.show()"
   ]
  },
  {
   "cell_type": "code",
   "execution_count": 4,
   "id": "double-inspection",
   "metadata": {},
   "outputs": [
    {
     "name": "stdout",
     "output_type": "stream",
     "text": [
      "Loss: =  0.1637154843\n",
      "Loss adaptive learning rate:  0.1637154836\n"
     ]
    }
   ],
   "source": [
    "print(f\"Loss: = {loss_function(optimized_y, t): .10}\")\n",
    "print(f\"Loss adaptive learning rate: {loss_function(optimized_y_adaptive, t): .10}\") "
   ]
  },
  {
   "cell_type": "code",
   "execution_count": 5,
   "id": "dominican-block",
   "metadata": {},
   "outputs": [
    {
     "name": "stdout",
     "output_type": "stream",
     "text": [
      "Number of epochs: = 2944\n",
      "Number of epochs adaptive learning rate: 430\n"
     ]
    }
   ],
   "source": [
    "print(f\"Number of epochs: = {epochs}\")\n",
    "print(f\"Number of epochs adaptive learning rate: {epochs_adaptive}\") "
   ]
  }
 ],
 "metadata": {
  "kernelspec": {
   "display_name": "Python 3",
   "language": "python",
   "name": "python3"
  },
  "language_info": {
   "codemirror_mode": {
    "name": "ipython",
    "version": 3
   },
   "file_extension": ".py",
   "mimetype": "text/x-python",
   "name": "python",
   "nbconvert_exporter": "python",
   "pygments_lexer": "ipython3",
   "version": "3.8.8"
  }
 },
 "nbformat": 4,
 "nbformat_minor": 5
}
