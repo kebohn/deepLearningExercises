{
 "cells": [
  {
   "cell_type": "code",
   "execution_count": 1,
   "id": "international-today",
   "metadata": {},
   "outputs": [],
   "source": [
    "import torch\n",
    "import torchvision\n",
    "import os\n",
    "import numpy\n",
    "import collections"
   ]
  },
  {
   "cell_type": "code",
   "execution_count": 2,
   "id": "61f07946-beb4-401e-b2a4-7b66613f1f70",
   "metadata": {},
   "outputs": [],
   "source": [
    "class Convolutional(torch.nn.Module):\n",
    "    def __init__(self, K, O): # K = hidden units / O = outputs\n",
    "        super(Convolutional, self).__init__()\n",
    "        # Convolutional Layers\n",
    "        self.conv1 = torch.nn.Conv2d(in_channels=1, out_channels=32, kernel_size=(5,5), stride=1, padding=2)\n",
    "        self.conv2 = torch.nn.Conv2d(in_channels=self.conv1.out_channels, out_channels=32, kernel_size=(5,5), stride=1, padding=2)\n",
    "        self.pool = torch.nn.MaxPool2d(kernel_size(2,2), stride=2)\n",
    "        # fully connected layers\n",
    "        self.fc1 = torch.nn.Linear(7*7*32, K, bias=True)\n",
    "        self.fc2 = torch.nn.Linear(K, O)\n",
    "        \n",
    "        self.activation = torch.nn.Sigmoid()\n",
    "        self.bn = torch.nn.BatchNorm2d(self.conv2.out_channels)\n",
    "        \n",
    "    \n",
    "    def forward(self, x):\n",
    "        a = self.activation(self.pool(self.conv1(x)))\n",
    "        # a = self.activation(self.bn(self.pool(self.conv2(a)))) with batch normalization\n",
    "        a = self.activation(self.pool(self.conv2(a)))\n",
    "        a = torch.flatten(a, 1)\n",
    "        return self.fc2(self.activation(self.fc1(a)))"
   ]
  },
  {
   "cell_type": "code",
   "execution_count": 3,
   "id": "a7d0acda-9b64-42c0-9521-4d53626b5249",
   "metadata": {},
   "outputs": [
    {
     "name": "stdout",
     "output_type": "stream",
     "text": [
      "Downloading http://yann.lecun.com/exdb/mnist/train-images-idx3-ubyte.gz\n",
      "Downloading http://yann.lecun.com/exdb/mnist/train-labels-idx1-ubyte.gz\n",
      "Downloading http://yann.lecun.com/exdb/mnist/t10k-images-idx3-ubyte.gz\n",
      "Downloading http://yann.lecun.com/exdb/mnist/t10k-labels-idx1-ubyte.gz\n",
      "Processing...\n",
      "Done!\n"
     ]
    }
   ],
   "source": [
    "train_adversarial = False\n",
    "train_with_noise = False\n",
    "\n",
    "filename = f\"Results_{'noise' if train_with_noise else 'adv' if train_adversarial else 'none'}_bn.txt\"\n",
    "\n",
    "torch.manual_seed(42)\n",
    "\n",
    "transform = torchvision.transforms.ToTensor()\n",
    "train_set = torchvision.datasets.MNIST(root=\"data/MNIST\",train=True, download=True,transform=transform)\n",
    "test_set = torchvision.datasets.MNIST(root=\"data/MNIST\",train=False, download=True,transform=transform)\n",
    "\n",
    "# loaders\n",
    "train_loader = torch.utils.data.DataLoader(train_set, shuffle=True, batch_size=128)\n",
    "test_loader = torch.utils.data.DataLoader(test_set, shuffle=False, batch_size=100)"
   ]
  }
 ],
 "metadata": {
  "kernelspec": {
   "display_name": "Python 3",
   "language": "python",
   "name": "python3"
  },
  "language_info": {
   "codemirror_mode": {
    "name": "ipython",
    "version": 3
   },
   "file_extension": ".py",
   "mimetype": "text/x-python",
   "name": "python",
   "nbconvert_exporter": "python",
   "pygments_lexer": "ipython3",
   "version": "3.7.10"
  }
 },
 "nbformat": 4,
 "nbformat_minor": 5
}
