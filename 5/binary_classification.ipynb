{
 "cells": [
  {
   "cell_type": "code",
   "execution_count": 1,
   "id": "reverse-bahrain",
   "metadata": {},
   "outputs": [],
   "source": [
    "import numpy\n",
    "import pandas\n",
    "import matplotlib.pyplot as plt"
   ]
  },
  {
   "cell_type": "code",
   "execution_count": 2,
   "id": "metallic-north",
   "metadata": {},
   "outputs": [],
   "source": [
    "def sigmoid(x):\n",
    "    return 1. / (1 + numpy.exp(-x))\n",
    "\n",
    "def loss_function(Y, T):\n",
    "    return numpy.mean((Y - T) ** 2)\n",
    "                                                   \n",
    "def forward(X, W1, W2):\n",
    "    H = sigmoid(W1.dot(X))\n",
    "    H[0,:] = 1. # bias\n",
    "    return W2.dot(H), H\n",
    "\n",
    "def gradient_layer_1(X, W, H, Y, T):\n",
    "    tmp = W.T.dot(Y - T) * H * (1 - H)\n",
    "    return tmp.dot(X.T) / X.shape[1]\n",
    "\n",
    "def gradient_layer_2(H, Y, T):\n",
    "    return (Y-T).dot(H.T) / Y.shape[1]\n",
    "\n",
    "def descent(X, T, W1, W2, eta):\n",
    "    Y, H = forward(X, W1, W2)\n",
    "    loss = loss_function(Y, T)\n",
    "    W1 -= eta * gradient_layer_1(X, W2, H, Y, T)\n",
    "    W2 -= eta * gradient_layer_2(H, Y, T)\n",
    "    return W1, W2, loss \n",
    "                             \n",
    "def batch(X, T, B):\n",
    "    D = numpy.vstack((X, T))\n",
    "    numpy.random.shuffle(D.T)\n",
    "    for i in range(0, X.shape[1], B):\n",
    "        sample = D[:,i:i+B]\n",
    "        if (sample.shape[1] == B): # ignore the rest if X mod != 0\n",
    "            yield sample[:-3], sample[-3:]\n",
    "            \n",
    "def stochastic_gradient_descent(X, T, W1, W2, B, eta, epochs):\n",
    "    loss_arr = []\n",
    "    for epoch in range(epochs):\n",
    "        batches = batch(X, T, B)\n",
    "        for b in batches: # call the generator, returns a tuple with X and T values\n",
    "            W1, W2, J = descent(b[0], b[1], numpy.copy(W1), numpy.copy(W2), eta)\n",
    "        loss_arr.append(J)\n",
    "    return W1, W2, loss_arr\n",
    "\n",
    "def gradient_descent(X, T, W1, W2, eta, epochs):\n",
    "    loss_arr = []\n",
    "    for epoch in range(epochs):\n",
    "        W1, W2, J = descent(X, T, numpy.copy(W1), numpy.copy(W2), eta)\n",
    "        loss_arr.append(J)\n",
    "    return W1, W2, loss_arr"
   ]
  },
  {
   "cell_type": "code",
   "execution_count": 3,
   "id": "national-london",
   "metadata": {},
   "outputs": [
    {
     "ename": "KeyboardInterrupt",
     "evalue": "",
     "output_type": "error",
     "traceback": [
      "\u001b[0;31m---------------------------------------------------------------------------\u001b[0m",
      "\u001b[0;31mKeyboardInterrupt\u001b[0m                         Traceback (most recent call last)",
      "\u001b[0;32m<ipython-input-3-e8f2fd3e4680>\u001b[0m in \u001b[0;36m<module>\u001b[0;34m\u001b[0m\n\u001b[1;32m     27\u001b[0m \u001b[0;34m\u001b[0m\u001b[0m\n\u001b[1;32m     28\u001b[0m \u001b[0;31m## run gradient descent\u001b[0m\u001b[0;34m\u001b[0m\u001b[0;34m\u001b[0m\u001b[0;34m\u001b[0m\u001b[0m\n\u001b[0;32m---> 29\u001b[0;31m \u001b[0mW1_gd\u001b[0m\u001b[0;34m,\u001b[0m \u001b[0mW2_gd\u001b[0m\u001b[0;34m,\u001b[0m \u001b[0mloss_arr_gd\u001b[0m \u001b[0;34m=\u001b[0m \u001b[0mgradient_descent\u001b[0m\u001b[0;34m(\u001b[0m\u001b[0mX\u001b[0m\u001b[0;34m,\u001b[0m \u001b[0mT\u001b[0m\u001b[0;34m,\u001b[0m \u001b[0mW1\u001b[0m\u001b[0;34m.\u001b[0m\u001b[0mcopy\u001b[0m\u001b[0;34m(\u001b[0m\u001b[0;34m)\u001b[0m\u001b[0;34m,\u001b[0m \u001b[0mW2\u001b[0m\u001b[0;34m.\u001b[0m\u001b[0mcopy\u001b[0m\u001b[0;34m(\u001b[0m\u001b[0;34m)\u001b[0m\u001b[0;34m,\u001b[0m \u001b[0meta\u001b[0m\u001b[0;34m,\u001b[0m \u001b[0mepochs\u001b[0m\u001b[0;34m)\u001b[0m\u001b[0;34m\u001b[0m\u001b[0;34m\u001b[0m\u001b[0m\n\u001b[0m\u001b[1;32m     30\u001b[0m \u001b[0;31m#\u001b[0m\u001b[0;34m\u001b[0m\u001b[0;34m\u001b[0m\u001b[0;34m\u001b[0m\u001b[0m\n\u001b[1;32m     31\u001b[0m \u001b[0;31m## plot loss functions for stochastic gradient descent and gradient descent\u001b[0m\u001b[0;34m\u001b[0m\u001b[0;34m\u001b[0m\u001b[0;34m\u001b[0m\u001b[0m\n",
      "\u001b[0;32m<ipython-input-2-a3e25a7604d1>\u001b[0m in \u001b[0;36mgradient_descent\u001b[0;34m(X, T, W1, W2, eta, epochs)\u001b[0m\n\u001b[1;32m     44\u001b[0m     \u001b[0mloss_arr\u001b[0m \u001b[0;34m=\u001b[0m \u001b[0;34m[\u001b[0m\u001b[0;34m]\u001b[0m\u001b[0;34m\u001b[0m\u001b[0;34m\u001b[0m\u001b[0m\n\u001b[1;32m     45\u001b[0m     \u001b[0;32mfor\u001b[0m \u001b[0mepoch\u001b[0m \u001b[0;32min\u001b[0m \u001b[0mrange\u001b[0m\u001b[0;34m(\u001b[0m\u001b[0mepochs\u001b[0m\u001b[0;34m)\u001b[0m\u001b[0;34m:\u001b[0m\u001b[0;34m\u001b[0m\u001b[0;34m\u001b[0m\u001b[0m\n\u001b[0;32m---> 46\u001b[0;31m         \u001b[0mW1\u001b[0m\u001b[0;34m,\u001b[0m \u001b[0mW2\u001b[0m\u001b[0;34m,\u001b[0m \u001b[0mJ\u001b[0m \u001b[0;34m=\u001b[0m \u001b[0mdescent\u001b[0m\u001b[0;34m(\u001b[0m\u001b[0mX\u001b[0m\u001b[0;34m,\u001b[0m \u001b[0mT\u001b[0m\u001b[0;34m,\u001b[0m \u001b[0mnumpy\u001b[0m\u001b[0;34m.\u001b[0m\u001b[0mcopy\u001b[0m\u001b[0;34m(\u001b[0m\u001b[0mW1\u001b[0m\u001b[0;34m)\u001b[0m\u001b[0;34m,\u001b[0m \u001b[0mnumpy\u001b[0m\u001b[0;34m.\u001b[0m\u001b[0mcopy\u001b[0m\u001b[0;34m(\u001b[0m\u001b[0mW2\u001b[0m\u001b[0;34m)\u001b[0m\u001b[0;34m,\u001b[0m \u001b[0meta\u001b[0m\u001b[0;34m)\u001b[0m\u001b[0;34m\u001b[0m\u001b[0;34m\u001b[0m\u001b[0m\n\u001b[0m\u001b[1;32m     47\u001b[0m         \u001b[0mloss_arr\u001b[0m\u001b[0;34m.\u001b[0m\u001b[0mappend\u001b[0m\u001b[0;34m(\u001b[0m\u001b[0mJ\u001b[0m\u001b[0;34m)\u001b[0m\u001b[0;34m\u001b[0m\u001b[0;34m\u001b[0m\u001b[0m\n\u001b[1;32m     48\u001b[0m     \u001b[0;32mreturn\u001b[0m \u001b[0mW1\u001b[0m\u001b[0;34m,\u001b[0m \u001b[0mW2\u001b[0m\u001b[0;34m,\u001b[0m \u001b[0mloss_arr\u001b[0m\u001b[0;34m\u001b[0m\u001b[0;34m\u001b[0m\u001b[0m\n",
      "\u001b[0;32m<ipython-input-2-a3e25a7604d1>\u001b[0m in \u001b[0;36mdescent\u001b[0;34m(X, T, W1, W2, eta)\u001b[0m\n\u001b[1;32m     20\u001b[0m     \u001b[0mY\u001b[0m\u001b[0;34m,\u001b[0m \u001b[0mH\u001b[0m \u001b[0;34m=\u001b[0m \u001b[0mforward\u001b[0m\u001b[0;34m(\u001b[0m\u001b[0mX\u001b[0m\u001b[0;34m,\u001b[0m \u001b[0mW1\u001b[0m\u001b[0;34m,\u001b[0m \u001b[0mW2\u001b[0m\u001b[0;34m)\u001b[0m\u001b[0;34m\u001b[0m\u001b[0;34m\u001b[0m\u001b[0m\n\u001b[1;32m     21\u001b[0m     \u001b[0mloss\u001b[0m \u001b[0;34m=\u001b[0m \u001b[0mloss_function\u001b[0m\u001b[0;34m(\u001b[0m\u001b[0mY\u001b[0m\u001b[0;34m,\u001b[0m \u001b[0mT\u001b[0m\u001b[0;34m)\u001b[0m\u001b[0;34m\u001b[0m\u001b[0;34m\u001b[0m\u001b[0m\n\u001b[0;32m---> 22\u001b[0;31m     \u001b[0mW1\u001b[0m \u001b[0;34m-=\u001b[0m \u001b[0meta\u001b[0m \u001b[0;34m*\u001b[0m \u001b[0mgradient_layer_1\u001b[0m\u001b[0;34m(\u001b[0m\u001b[0mX\u001b[0m\u001b[0;34m,\u001b[0m \u001b[0mW2\u001b[0m\u001b[0;34m,\u001b[0m \u001b[0mH\u001b[0m\u001b[0;34m,\u001b[0m \u001b[0mY\u001b[0m\u001b[0;34m,\u001b[0m \u001b[0mT\u001b[0m\u001b[0;34m)\u001b[0m\u001b[0;34m\u001b[0m\u001b[0;34m\u001b[0m\u001b[0m\n\u001b[0m\u001b[1;32m     23\u001b[0m     \u001b[0mW2\u001b[0m \u001b[0;34m-=\u001b[0m \u001b[0meta\u001b[0m \u001b[0;34m*\u001b[0m \u001b[0mgradient_layer_2\u001b[0m\u001b[0;34m(\u001b[0m\u001b[0mH\u001b[0m\u001b[0;34m,\u001b[0m \u001b[0mY\u001b[0m\u001b[0;34m,\u001b[0m \u001b[0mT\u001b[0m\u001b[0;34m)\u001b[0m\u001b[0;34m\u001b[0m\u001b[0;34m\u001b[0m\u001b[0m\n\u001b[1;32m     24\u001b[0m     \u001b[0;32mreturn\u001b[0m \u001b[0mW1\u001b[0m\u001b[0;34m,\u001b[0m \u001b[0mW2\u001b[0m\u001b[0;34m,\u001b[0m \u001b[0mloss\u001b[0m\u001b[0;34m\u001b[0m\u001b[0;34m\u001b[0m\u001b[0m\n",
      "\u001b[0;32m<ipython-input-2-a3e25a7604d1>\u001b[0m in \u001b[0;36mgradient_layer_1\u001b[0;34m(X, W, H, Y, T)\u001b[0m\n\u001b[1;32m     11\u001b[0m \u001b[0;34m\u001b[0m\u001b[0m\n\u001b[1;32m     12\u001b[0m \u001b[0;32mdef\u001b[0m \u001b[0mgradient_layer_1\u001b[0m\u001b[0;34m(\u001b[0m\u001b[0mX\u001b[0m\u001b[0;34m,\u001b[0m \u001b[0mW\u001b[0m\u001b[0;34m,\u001b[0m \u001b[0mH\u001b[0m\u001b[0;34m,\u001b[0m \u001b[0mY\u001b[0m\u001b[0;34m,\u001b[0m \u001b[0mT\u001b[0m\u001b[0;34m)\u001b[0m\u001b[0;34m:\u001b[0m\u001b[0;34m\u001b[0m\u001b[0;34m\u001b[0m\u001b[0m\n\u001b[0;32m---> 13\u001b[0;31m     \u001b[0mtmp\u001b[0m \u001b[0;34m=\u001b[0m \u001b[0mW\u001b[0m\u001b[0;34m.\u001b[0m\u001b[0mT\u001b[0m\u001b[0;34m.\u001b[0m\u001b[0mdot\u001b[0m\u001b[0;34m(\u001b[0m\u001b[0mY\u001b[0m \u001b[0;34m-\u001b[0m \u001b[0mT\u001b[0m\u001b[0;34m)\u001b[0m \u001b[0;34m*\u001b[0m \u001b[0mH\u001b[0m \u001b[0;34m*\u001b[0m \u001b[0;34m(\u001b[0m\u001b[0;36m1\u001b[0m \u001b[0;34m-\u001b[0m \u001b[0mH\u001b[0m\u001b[0;34m)\u001b[0m\u001b[0;34m\u001b[0m\u001b[0;34m\u001b[0m\u001b[0m\n\u001b[0m\u001b[1;32m     14\u001b[0m     \u001b[0;32mreturn\u001b[0m \u001b[0mtmp\u001b[0m\u001b[0;34m.\u001b[0m\u001b[0mdot\u001b[0m\u001b[0;34m(\u001b[0m\u001b[0mX\u001b[0m\u001b[0;34m.\u001b[0m\u001b[0mT\u001b[0m\u001b[0;34m)\u001b[0m \u001b[0;34m/\u001b[0m \u001b[0mX\u001b[0m\u001b[0;34m.\u001b[0m\u001b[0mshape\u001b[0m\u001b[0;34m[\u001b[0m\u001b[0;36m1\u001b[0m\u001b[0;34m]\u001b[0m\u001b[0;34m\u001b[0m\u001b[0;34m\u001b[0m\u001b[0m\n\u001b[1;32m     15\u001b[0m \u001b[0;34m\u001b[0m\u001b[0m\n",
      "\u001b[0;31mKeyboardInterrupt\u001b[0m: "
     ]
    }
   ],
   "source": [
    "# Froged Bank Notes Dataset\n",
    "\n",
    "X = []\n",
    "T = []\n",
    "\n",
    "# read dataset\n",
    "with open('data/data_banknote_authentication.txt') as f:\n",
    "    lines = f.readlines()\n",
    "    for line in lines:\n",
    "        arr = numpy.array(line.split(',')).astype(numpy.float)\n",
    "        X.append(arr[:-1]) # add all elements without last one\n",
    "        T.append(arr[-1]) # last element is the target value\n",
    "f.close()\n",
    "     \n",
    "X = numpy.array(X).T\n",
    "X = numpy.vstack((numpy.zeros((1,X.shape[1])), X)) # add bias\n",
    "T = numpy.array(T).T\n",
    "\n",
    "# hyperparameters\n",
    "eta = 0.0001\n",
    "epochs = 10000\n",
    "k = 100\n",
    "\n",
    "## init weights\n",
    "W1 = numpy.random.uniform(size=(k+1,X.shape[0])) # first layer weights\n",
    "W2 = numpy.random.uniform(size=(T.shape[0],k+1)) # second layer weights\n",
    "\n",
    "## run gradient descent\n",
    "W1_gd, W2_gd, loss_arr_gd = gradient_descent(X, T, W1.copy(), W2.copy(), eta, epochs)\n",
    "#    \n",
    "## plot loss functions for stochastic gradient descent and gradient descent\n",
    "x = numpy.arange(0, epochs)\n",
    "plt.loglog(x,loss_arr_sgd,'-')\n",
    "plt.show()"
   ]
  },
  {
   "cell_type": "code",
   "execution_count": 8,
   "id": "temporal-attachment",
   "metadata": {},
   "outputs": [
    {
     "name": "stdout",
     "output_type": "stream",
     "text": [
      "[1. 1. 1. ... 0. 0. 0.]\n"
     ]
    }
   ],
   "source": [
    "# Spam Email Dataset\n",
    "\n",
    "X = []\n",
    "T = []\n",
    "\n",
    "# read dataset\n",
    "with open('data/spambase.data') as f:\n",
    "    lines = f.readlines()\n",
    "    for line in lines:\n",
    "        arr = numpy.array(line.split(',')).astype(numpy.float)\n",
    "        X.append(arr[:-1]) # add all elements without last one\n",
    "        T.append(arr[-1]) # last element is the target value\n",
    "f.close()\n",
    "     \n",
    "X = numpy.array(X).T\n",
    "X = numpy.vstack((numpy.zeros((1,X.shape[1])), X)) # add bias\n",
    "T = numpy.array(T).T\n",
    "\n",
    "\n",
    "## hyperparameters\n",
    "#eta = 0.0001\n",
    "#B = 32\n",
    "#epochs = 10000\n",
    "#k = 100\n",
    "\n",
    "## init weights\n",
    "#W1 = numpy.random.uniform(size=(k+1,X.shape[0])) # first layer weights\n",
    "#W2 = numpy.random.uniform(size=(T.shape[0],k+1)) # second layer weights\n",
    "\n",
    "## run stochastic gradient descent\n",
    "#W1_sgd, W2_sgd, loss_arr_sgd = stochastic_gradient_descent(X, T, W1.copy(), W2.copy(), B, eta, epochs)\n",
    "#    \n",
    "## run gradient descent\n",
    "#W1_gd, W2_gd, loss_arr_gd = gradient_descent(X, T, W1.copy(), W2.copy(), eta, epochs)\n",
    "#    \n",
    "## plot loss functions for stochastic gradient descent and gradient descent\n",
    "#x = numpy.arange(0, epochs)\n",
    "#plt.loglog(x,loss_arr_sgd,'-')\n",
    "#plt.loglog(x,loss_arr_gd,'-')\n",
    "#plt.show()"
   ]
  }
 ],
 "metadata": {
  "kernelspec": {
   "display_name": "Python 3",
   "language": "python",
   "name": "python3"
  },
  "language_info": {
   "codemirror_mode": {
    "name": "ipython",
    "version": 3
   },
   "file_extension": ".py",
   "mimetype": "text/x-python",
   "name": "python",
   "nbconvert_exporter": "python",
   "pygments_lexer": "ipython3",
   "version": "3.8.8"
  }
 },
 "nbformat": 4,
 "nbformat_minor": 5
}
