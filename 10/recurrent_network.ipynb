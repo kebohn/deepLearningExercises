{
 "cells": [
  {
   "cell_type": "code",
   "execution_count": null,
   "id": "international-today",
   "metadata": {},
   "outputs": [],
   "source": [
    "import torch\n",
    "import torchvision\n",
    "import os\n",
    "import numpy\n",
    "import collections"
   ]
  },
  {
   "cell_type": "code",
   "execution_count": null,
   "id": "b23c477c-f65e-4734-b977-3f45af1d4dde",
   "metadata": {},
   "outputs": [],
   "source": [
    "# load text\n",
    "with open('poem.txt') as f:\n",
    "    txt = f.read().splitlines() # create string array without newlines\n",
    "    txt = [word.strip() for word in txt] # remove additional whitespaces\n",
    "    txt = list(filter(None, txt)) # remove empty string objects\n",
    "    txt = ' '.join(txt).lower() # create one string\n",
    "    characters = sorted(set(txt)) # create list of all characters\n",
    "    char_array = [ord(i) for i in characters] # convert characters into unicode representation\n",
    "    D = len(char_array)\n",
    "    C = {c:i for i,c in enumerate(char_array)}\n",
    "    f.close()"
   ]
  },
  {
   "cell_type": "code",
   "execution_count": null,
   "id": "0d500335-66b5-4b29-a405-1718db98f6ee",
   "metadata": {},
   "outputs": [],
   "source": [
    "def one_hot_for(b):\n",
    "    t = torch.zeros(b.shape[0], b.shape[1], D)\n",
    "    for i in range(b.shape[0]):\n",
    "        for j in range(b.shape[1]):\n",
    "            # ignore unknown values (zero-padding)\n",
    "            if b[i,j] >= 0:\n",
    "                t[i,j,b[i,j]] = 1\n",
    "    return t"
   ]
  },
  {
   "cell_type": "code",
   "execution_count": null,
   "id": "61f07946-beb4-401e-b2a4-7b66613f1f70",
   "metadata": {},
   "outputs": [],
   "source": [
    "class RNN(torch.nn.Module):\n",
    "    def __init__(self, context,D):\n",
    "        self.context = context\n",
    "        self.D = D\n",
    "        super(RNN, self).__init__()\n",
    "        self.W1 = torch.nn.Linear(in_features=self.D, out_features=1000)\n",
    "        self.W2 = torch.nn.Linear(in_features=self.W1.out_features, out_features=self.D)\n",
    "        self.Wr = torch.nn.Linear(in_features=self.W1.out_features, out_features=self.W1.out_features)\n",
    "        self.activation = torch.nn.PReLU()\n",
    "    \n",
    "    def forward(self, x):\n",
    "        h_s = torch.zeros(len(x), self.W1.out_features) # init hidden vectors to zero\n",
    "        Z = [] # logits\n",
    "        for s in range(self.context):\n",
    "            a_s = self.W1(x[:,s]) + self.Wr(h_s) # compute activation\n",
    "            h_s = self.activation(a_s) # apply activation function\n",
    "            Z.append(self.W2(h_s))\n",
    "        return torch.stack(Z).transpose(1,0)\n",
    "    \n",
    "    def predict(self, x):\n",
    "        h_s = torch.zeros(len(x), self.W1.out_features) # init hidden vectors to zero\n",
    "        for s in range(x.shape[1]):\n",
    "            a_s = self.W1(x[:,s]) + self.Wr(h_s) # compute activation\n",
    "            h_s = self.activation(a_s) # apply activation function\n",
    "        return self.W2(h_s)"
   ]
  },
  {
   "cell_type": "code",
   "execution_count": null,
   "id": "72393181-c2c1-44d6-92a0-91d73e7cedb5",
   "metadata": {},
   "outputs": [],
   "source": [
    "# data creation script\n",
    "\n",
    "batch_size = 256\n",
    "learn_rate = 1e-3\n",
    "context = 20\n",
    "\n",
    "# init network\n",
    "network = RNN(context, D)\n",
    "loss = torch.nn.CrossEntropyLoss(ignore_index = -1)\n",
    "optimizer = torch.optim.SGD(network.parameters(), lr=learn_rate, momentum=0.9)\n",
    "\n",
    "# create dataset tensor\n",
    "data = collections.deque(maxlen=context) # fixed context size\n",
    "data.extend([-1] * context)\n",
    "X,T = [], []\n",
    "for line in txt: # iterate over poem text\n",
    "    for char in line:\n",
    "        X.append(numpy.array(data)) # current input\n",
    "        data.append(C[ord(char)]) # append current char\n",
    "        T.append(numpy.array(data)) # current output\n",
    "\n",
    "# create data tensors and data loader\n",
    "DS = torch.utils.data.TensorDataset(torch.tensor(X), torch.tensor(T, dtype=torch.long))\n",
    "DL = torch.utils.data.DataLoader(DS, batch_size=batch_size, shuffle=True)"
   ]
  },
  {
   "cell_type": "code",
   "execution_count": null,
   "id": "28c36e08-8daa-448b-b6af-b4c820511fe2",
   "metadata": {},
   "outputs": [],
   "source": [
    "# training\n",
    "for epoch in range(10): # train for 10 epochs\n",
    "    total_loss = 0.\n",
    "    for x,t in DL:\n",
    "        # train network\n",
    "        optimizer.zero_grad()\n",
    "        # forward pass\n",
    "        z = network(one_hot_for(x))\n",
    "        # compute average loss\n",
    "        J = torch.stack([loss(z[:,s], t[:,s]) for s in range(context)]).sum()\n",
    "        J.backward()\n",
    "        optimizer.step()\n",
    "        total_loss += J\n",
    "        print(f\"\\rLoss: {float(J)/t.shape[0]: 3.5f}\", end=\"\")\n",
    "    print(f\"\\rEpoch: {epoch} -- Loss: {total_loss / len(DS)}\")\n",
    "    torch.save(network.state_dict(), \"text.model\")"
   ]
  },
  {
   "cell_type": "code",
   "execution_count": null,
   "id": "57f9a3df-e385-4394-a199-56fee7008f8d",
   "metadata": {},
   "outputs": [],
   "source": [
    "# test model\n",
    "\n",
    "# load network again\n",
    "network = RNN(context, D)\n",
    "network.load_state_dict(torch.load(\"text.model\"))\n",
    "\n",
    "samples = (\"the \", \"beau\", \"mothe\", \"bloo\")\n",
    "\n",
    "for seed in samples:\n",
    "    text = seed\n",
    "    with torch.no_grad():\n",
    "        for i in range(80):\n",
    "            x = one_hot_for(numpy.array[[C[ord(s)] for s in text]])\n",
    "            z = network.predict(x)\n",
    "            y = torch.softmax(z,1)\n",
    "            next_char = char_array[numpy.argmax(y)]\n",
    "            text += chr(next_char)\n",
    "        print(f\"{seed} -> {text}\")"
   ]
  }
 ],
 "metadata": {
  "kernelspec": {
   "display_name": "Python 3",
   "language": "python",
   "name": "python3"
  },
  "language_info": {
   "codemirror_mode": {
    "name": "ipython",
    "version": 3
   },
   "file_extension": ".py",
   "mimetype": "text/x-python",
   "name": "python",
   "nbconvert_exporter": "python",
   "pygments_lexer": "ipython3",
   "version": "3.7.10"
  }
 },
 "nbformat": 4,
 "nbformat_minor": 5
}
