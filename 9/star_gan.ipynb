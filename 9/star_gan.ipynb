{
 "cells": [
  {
   "cell_type": "code",
   "execution_count": 1,
   "id": "international-today",
   "metadata": {},
   "outputs": [],
   "source": [
    "import torch\n",
    "import torchvision\n",
    "import PIL\n",
    "import csv\n",
    "import os\n",
    "from StarGAN.model import Generator"
   ]
  },
  {
   "cell_type": "code",
   "execution_count": 2,
   "id": "c823f1d3-551b-4d28-8358-56abb5a3bbd0",
   "metadata": {},
   "outputs": [
    {
     "name": "stdout",
     "output_type": "stream",
     "text": [
      "tensor([[0., 0., 0., 0., 1.]])\n",
      "tensor([[1., 0., 0., 0., 1.]])\n",
      "tensor([[0., 1., 0., 0., 1.]])\n",
      "tensor([[0., 0., 1., 0., 1.]])\n",
      "tensor([[0., 0., 0., 1., 1.]])\n",
      "tensor([[0., 0., 0., 0., 0.]])\n"
     ]
    }
   ],
   "source": [
    "input_image = 'StarGAN/data/celeba/images/000010.jpg'\n",
    "\n",
    "# list of attributes that StarGan uses\n",
    "attributes = ['Black_Hair', 'Blond_Hair', 'Brown_Hair', 'Male', 'Young']\n",
    "\n",
    "# load original labels for the input_image\n",
    "def load_original_labels():\n",
    "    with open('StarGAN/data/celeba/list_attr_celeba.txt') as f:\n",
    "        r = csv.reader(f, delimiter=\" \", skipinitialspace=True)\n",
    "        # skip first line\n",
    "        next(r)\n",
    "        # read header\n",
    "        header = next(r)\n",
    "        base = os.path.basename(input_image)\n",
    "        # parse file\n",
    "        for line in r:\n",
    "            if line[0] == base:\n",
    "                # convert {-1, 1} labels  into {0,1} labels\n",
    "                return torch.tensor([(float(line[header.index(a)+1]) + 1) / 2 for a in attributes])\n",
    "\n",
    "# load labels\n",
    "tt = load_original_labels()\n",
    "orig_target = tt.unsqueeze(0)\n",
    "print(orig_target)\n",
    "\n",
    "# load image via PIL\n",
    "image = PIL.Image.open(input_image)\n",
    "\n",
    "# define transform according to Star Gan implementation\n",
    "transform = torchvision.transforms.Compose([\n",
    "    torchvision.transforms.CenterCrop(image.size[0]),\n",
    "    torchvision.transforms.Resize(128),\n",
    "    torchvision.transforms.ToTensor(),\n",
    "    torchvision.transforms.Normalize(mean=(0.5, 0.5, 0.5), std=(0.5, 0.5, 0.5))\n",
    "])\n",
    "\n",
    "# load generator network\n",
    "G_path = \"StarGAN/stargan_celeba_128/models/200000-G.ckpt\"\n",
    "G = Generator(64, len(attributes), 6)\n",
    "G.load_state_dict(torch.load(G_path, map_location=lambda storage, loc: storage))\n",
    "\n",
    "# save function image\n",
    "topil = torchvision.transforms.ToPILImage()\n",
    "def save_image(tensor, image):\n",
    "    tensor = torch.clamp(tensor * 0.5 + 0.5, 0, 1) # undo normalization and clamp image into pixel range\n",
    "    image = topil(tensor) # convert to PIL image\n",
    "    image.save(filename)\n",
    "\n",
    "# transform image to tensor\n",
    "tensor = transform(image)\n",
    "                                    \n",
    "# write original image\n",
    "base = os.path.splitext(os.path.basename(input_image))[0]\n",
    "filename = os.path.join(\"images\", f\"{base}.png\")\n",
    "save_image(tensor, filename)\n",
    "                                    \n",
    "# modify several attributes\n",
    "for i in range(len(attributes)):\n",
    "    target = torch.zeros(orig_target.shape) # reset all attributes to zero\n",
    "    for j in (3,4):\n",
    "        target[0,j] = orig_target[0,j] # copy gender & age from original image\n",
    "    target[0,i] = 1 - orig_target[0,i] # change specific attribute\n",
    "    print(target)\n",
    "\n",
    "    # generate image from original image and modified target attribute vector\n",
    "    generated = G(tensor.unsqueeze(0), target).squeeze(0)\n",
    "\n",
    "    # save generated image\n",
    "    filename = os.path.join(\"images\", f\"{base}-{attributes[i]}-{int(target[0,i])}.png\")\n",
    "    save_image(generated, filename)"
   ]
  }
 ],
 "metadata": {
  "kernelspec": {
   "display_name": "Python 3",
   "language": "python",
   "name": "python3"
  },
  "language_info": {
   "codemirror_mode": {
    "name": "ipython",
    "version": 3
   },
   "file_extension": ".py",
   "mimetype": "text/x-python",
   "name": "python",
   "nbconvert_exporter": "python",
   "pygments_lexer": "ipython3",
   "version": "3.7.10"
  }
 },
 "nbformat": 4,
 "nbformat_minor": 5
}
