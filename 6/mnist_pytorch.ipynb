{
 "cells": [
  {
   "cell_type": "code",
   "execution_count": 3,
   "id": "about-executive",
   "metadata": {},
   "outputs": [],
   "source": [
    "import torch\n",
    "import torchvision"
   ]
  },
  {
   "cell_type": "code",
   "execution_count": 4,
   "id": "86065b48-4e07-423b-a2db-121f965d617b",
   "metadata": {},
   "outputs": [],
   "source": [
    "class Network(torch.nn.Module):\n",
    "    def __init__(self, K):\n",
    "        # call base class constructor\n",
    "        super(Network, self).__init__()\n",
    "        \n",
    "        # init components\n",
    "        self.W1 = torch.nn.Linear(784, K, bias=True)\n",
    "        self.activation = torch.nn.Sigmoid()\n",
    "        self.w2 = torch.nn.Linear(K, 10)\n",
    "        \n",
    "    def forward(self, x):\n",
    "        return self.w2(self.activation(self.W1(x)))"
   ]
  },
  {
   "cell_type": "code",
   "execution_count": 10,
   "id": "8c3d096e-8373-4ba0-98cd-e8573254a810",
   "metadata": {},
   "outputs": [
    {
     "name": "stdout",
     "output_type": "stream",
     "text": [
      "Downloading http://yann.lecun.com/exdb/mnist/train-images-idx3-ubyte.gz\n",
      "Downloading http://yann.lecun.com/exdb/mnist/train-labels-idx1-ubyte.gz\n",
      "Downloading http://yann.lecun.com/exdb/mnist/t10k-images-idx3-ubyte.gz\n",
      "Downloading http://yann.lecun.com/exdb/mnist/t10k-labels-idx1-ubyte.gz\n",
      "Processing...\n",
      "Done!\n"
     ]
    }
   ],
   "source": [
    "# obtain MNIST datasets\n",
    "transform = torchvision.transforms.ToTensor()\n",
    "train_set = torchvision.datasets.MNIST(root=\"data/MNIST\",train=True, download=True,transform=transform)\n",
    "test_set = torchvision.datasets.MNIST(root=\"data/MNIST\",train=False, download=True,transform=transform)\n",
    "\n",
    "# loaders\n",
    "train_loader = torch.utils.data.DataLoader(\n",
    "train_set, shuffle=True, batch_size=64)\n",
    "test_loader = torch.utils.data.DataLoader(\n",
    "test_set, shuffle=False, batch_size=100)"
   ]
  },
  {
   "cell_type": "code",
   "execution_count": null,
   "id": "7c31ffea-d300-4938-b93f-493b483cef71",
   "metadata": {},
   "outputs": [],
   "source": [
    "# define variables\n",
    "K = 10 # hiddent neurons\n",
    "epochs = 100\n",
    "lr = 0.01\n",
    "momentum = 0.9\n",
    "\n",
    "# init network\n",
    "network = Network(K)\n",
    "loss = torch.nn.CrossEntropyLoss()\n",
    "optimizer = torch.optim.SGD(params=network.parameters(), lr=lr, momentum=momentum)\n",
    "\n",
    "# training epochs\n",
    "for epoch in range(epochs):\n",
    "    for x,t in train_loader:\n",
    "        optimizer.zero_grad()\n",
    "        z = network(x)\n",
    "        J = loss(z, t)\n",
    "        J.backward()\n",
    "        optimizer.step() # apply gradient step"
   ]
  }
 ],
 "metadata": {
  "kernelspec": {
   "display_name": "Python 3",
   "language": "python",
   "name": "python3"
  },
  "language_info": {
   "codemirror_mode": {
    "name": "ipython",
    "version": 3
   },
   "file_extension": ".py",
   "mimetype": "text/x-python",
   "name": "python",
   "nbconvert_exporter": "python",
   "pygments_lexer": "ipython3",
   "version": "3.7.10"
  }
 },
 "nbformat": 4,
 "nbformat_minor": 5
}
