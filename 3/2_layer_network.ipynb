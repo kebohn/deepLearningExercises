{
 "cells": [
  {
   "cell_type": "code",
   "execution_count": 1,
   "id": "prerequisite-jesus",
   "metadata": {},
   "outputs": [],
   "source": [
    "import numpy\n",
    "import matplotlib.pyplot as plt"
   ]
  },
  {
   "cell_type": "code",
   "execution_count": 2,
   "id": "southeast-drove",
   "metadata": {},
   "outputs": [],
   "source": [
    "def cosine(x):\n",
    "    return (numpy.cos(3 * x) + 1) / 2\n",
    "\n",
    "def gaussian(x):\n",
    "    return numpy.exp(-0.25 * x ** 2)\n",
    "\n",
    "def polynomial(x):\n",
    "    return (x ** 5 + 3 * x ** 4 - 11 * x ** 3 - 27 * x ** 2 + 10 * x + 64) / 100\n",
    "\n",
    "def compute_loss(w_1, w_2):\n",
    "    return w_1 ** 2 + w_2 ** 2 + 30 * numpy.sin(w_1) * numpy.sin(w_2)\n",
    "\n",
    "def compute_gradient(w):\n",
    "    return numpy.array([2 * w[0] + 30 * numpy.sin(w[1]) * numpy.cos(w[0]), 2 * w[1] + 30 * numpy.sin(w[0]) * numpy.cos(w[1])])\n",
    "\n",
    "def gradient_descent_adaptive(w, eta, x, t):\n",
    "    y = linear_function(w[1], w[0], x)\n",
    "    gradient = gradient_function(y, t, x)\n",
    "    old_loss = loss_function(y,t)\n",
    "    while numpy.linalg.norm(gradient) > 10e-5:\n",
    "        y = linear_function(w[1], w[0], x)\n",
    "        loss = loss_function(y, t)\n",
    "        gradient = gradient_function(y, t, x)\n",
    "        \n",
    "        if loss >= old_loss:\n",
    "            eta *= 0.5\n",
    "        else:\n",
    "            eta *= 1.1\n",
    "        \n",
    "        w -= eta * gradient\n",
    "        old_loss = loss\n",
    "    return w"
   ]
  },
  {
   "cell_type": "code",
   "execution_count": 3,
   "id": "classified-advancement",
   "metadata": {},
   "outputs": [],
   "source": [
    "# datasets\n",
    "amount = numpy.random.randint(low=20, high=2000)\n",
    "\n",
    "x_1 = numpy.random.uniform(low=-2, high=2, size=(amount,))\n",
    "t_1 = cosine(x_1)\n",
    "\n",
    "x_2 = numpy.random.uniform(low=-2, high=2, size=(amount,))\n",
    "t_2 = gaussian(x_2)\n",
    "\n",
    "x_3 = numpy.random.uniform(low=-4.5, high=3.5, size=(amount,))\n",
    "t_2 = polynomial(x_3)"
   ]
  },
  {
   "cell_type": "code",
   "execution_count": null,
   "id": "short-madness",
   "metadata": {},
   "outputs": [],
   "source": []
  }
 ],
 "metadata": {
  "kernelspec": {
   "display_name": "Python 3",
   "language": "python",
   "name": "python3"
  },
  "language_info": {
   "codemirror_mode": {
    "name": "ipython",
    "version": 3
   },
   "file_extension": ".py",
   "mimetype": "text/x-python",
   "name": "python",
   "nbconvert_exporter": "python",
   "pygments_lexer": "ipython3",
   "version": "3.8.8"
  }
 },
 "nbformat": 4,
 "nbformat_minor": 5
}
